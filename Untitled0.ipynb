{
  "nbformat": 4,
  "nbformat_minor": 0,
  "metadata": {
    "colab": {
      "name": "Untitled0.ipynb",
      "provenance": [],
      "collapsed_sections": [],
      "authorship_tag": "ABX9TyMjO+2v56i8RDcZYTfdpr2X",
      "include_colab_link": true
    },
    "kernelspec": {
      "name": "python3",
      "display_name": "Python 3"
    },
    "language_info": {
      "name": "python"
    }
  },
  "cells": [
    {
      "cell_type": "markdown",
      "metadata": {
        "id": "view-in-github",
        "colab_type": "text"
      },
      "source": [
        "<a href=\"https://colab.research.google.com/github/qckl/Java/blob/master/Untitled0.ipynb\" target=\"_parent\"><img src=\"https://colab.research.google.com/assets/colab-badge.svg\" alt=\"Open In Colab\"/></a>"
      ]
    },
    {
      "cell_type": "markdown",
      "metadata": {
        "id": "DMIE2a9C6how"
      },
      "source": [
        ""
      ]
    },
    {
      "cell_type": "markdown",
      "metadata": {
        "id": "y0UlGNgv6oh5"
      },
      "source": [
        "Задание 1"
      ]
    },
    {
      "cell_type": "code",
      "metadata": {
        "colab": {
          "base_uri": "https://localhost:8080/"
        },
        "id": "9F1i5NGm6dGQ",
        "outputId": "775054c4-7484-4882-9af3-d656f2ea59c2"
      },
      "source": [
        "import math\n",
        "a = int(input())\n",
        "n = 1\n",
        "for i in range(a):\n",
        "  z = math.log2(n)\n",
        "  if z%1 == 0:\n",
        "    print(n,\"=2 ^\",z)\n",
        "  n = n + 1"
      ],
      "execution_count": null,
      "outputs": [
        {
          "output_type": "stream",
          "name": "stdout",
          "text": [
            "7\n",
            "1 =2 ^ 0.0\n",
            "2 =2 ^ 1.0\n",
            "4 =2 ^ 2.0\n"
          ]
        }
      ]
    },
    {
      "cell_type": "markdown",
      "metadata": {
        "id": "Wo3mcXLn7KBi"
      },
      "source": [
        "Задание 2 Напишите программу, которая считывает со стандартного ввода целые числа, по одному числу в строке, и после первого введенного нуля выводит сумму полученных на вход чисел.\n"
      ]
    },
    {
      "cell_type": "code",
      "metadata": {
        "colab": {
          "base_uri": "https://localhost:8080/"
        },
        "id": "RpI5GdwD7PDV",
        "outputId": "8283d8d4-8a03-4fa2-f55f-32c54bd372ff"
      },
      "source": [
        "import math\n",
        "\n",
        "a = 0\n",
        "stan = 1\n",
        "while stan!=0:\n",
        "  stan = int (input())\n",
        "  a = a+stan\n",
        "  print(a)"
      ],
      "execution_count": null,
      "outputs": [
        {
          "output_type": "stream",
          "name": "stdout",
          "text": [
            "4\n",
            "4\n",
            "6\n",
            "10\n",
            "0\n",
            "10\n"
          ]
        }
      ]
    },
    {
      "cell_type": "markdown",
      "metadata": {
        "id": "PEpDdWzY7PgR"
      },
      "source": [
        "Задание 3 Последовательность состоит из натуральных чисел и завершается числом 0. Определите, сколько элементов этой последовательности больше предыдущего элемента."
      ]
    },
    {
      "cell_type": "code",
      "metadata": {
        "colab": {
          "base_uri": "https://localhost:8080/"
        },
        "id": "EDli5Yxm7QQT",
        "outputId": "d04e798f-957f-4724-c232-928e641413c3"
      },
      "source": [
        "a = [4,1,2,3,4,5,6,7,1,3,4,0]\n",
        "sum = 0\n",
        "i = 1\n",
        "for i in range(len(a)):\n",
        "  if a[i-1] < a[i]:\n",
        "    sum = sum + 1\n",
        "print(sum)"
      ],
      "execution_count": null,
      "outputs": [
        {
          "output_type": "stream",
          "name": "stdout",
          "text": [
            "9\n"
          ]
        }
      ]
    },
    {
      "cell_type": "markdown",
      "metadata": {
        "id": "V4ZblLWx9UJ7"
      },
      "source": [
        "Задание 4"
      ]
    },
    {
      "cell_type": "code",
      "metadata": {
        "colab": {
          "base_uri": "https://localhost:8080/"
        },
        "id": "0BvuyErq9Uhj",
        "outputId": "dca08729-1bb1-4c94-f3f0-5a4b55620b02"
      },
      "source": [
        "a = [1,2,3,4,5,9,6,7,9,4,3,2,1,0]\n",
        "print(a.count(max(a)))"
      ],
      "execution_count": null,
      "outputs": [
        {
          "output_type": "stream",
          "name": "stdout",
          "text": [
            "2\n"
          ]
        }
      ]
    },
    {
      "cell_type": "markdown",
      "metadata": {
        "id": "ztv9Fpri-K6E"
      },
      "source": [
        ""
      ]
    },
    {
      "cell_type": "markdown",
      "metadata": {
        "id": "DZOIktPw-NIa"
      },
      "source": [
        "Задание 5"
      ]
    },
    {
      "cell_type": "code",
      "metadata": {
        "id": "-msLKa0--l9J"
      },
      "source": [
        "s = 1\n",
        "a = []\n",
        "summ = 0\n",
        "sum = 0\n",
        "while s != 0:\n",
        "  f = int(input())\n",
        "  summ = summ + f**2\n",
        "  sum = sum + f\n",
        "  s = sum\n",
        "print(summ)"
      ],
      "execution_count": null,
      "outputs": []
    },
    {
      "cell_type": "markdown",
      "metadata": {
        "id": "QDMOuXyi-NF_"
      },
      "source": [
        "Задание 6"
      ]
    },
    {
      "cell_type": "code",
      "metadata": {
        "colab": {
          "base_uri": "https://localhost:8080/"
        },
        "id": "Pe6y87Ko-mWQ",
        "outputId": "27be56f1-72c3-4887-f7b6-bfea66a90012"
      },
      "source": [
        "g = int(input())\n",
        "while g < 101:\n",
        "  if g >= 10:\n",
        "    print( g)\n",
        "  g = int(input())"
      ],
      "execution_count": null,
      "outputs": [
        {
          "name": "stdout",
          "output_type": "stream",
          "text": [
            "11\n",
            "11\n",
            "120\n"
          ]
        }
      ]
    },
    {
      "cell_type": "markdown",
      "metadata": {
        "id": "nwRqEXga-NDZ"
      },
      "source": [
        "Задание 7"
      ]
    },
    {
      "cell_type": "code",
      "metadata": {
        "id": "sahIWn_y-m3U"
      },
      "source": [
        "a = int(input())\n",
        "b = int(input())\n",
        "c = int(input())\n",
        "d = int(input())\n",
        "ab = list(range(a,b+1))\n",
        "cd = list(range(c,d+1))\n",
        "print(\"\\t\",end=\"\")\n",
        "for i in range(len(cd)):\n",
        "  print(cd[i],end=\"\\t\")\n",
        "print()\n",
        "for i in range(len(ab)):\n",
        "  print(ab[i],end=\"\\t\")\n",
        "  for j in range(len(cd)):\n",
        "    print(ab[i]*cd[j],end=\"\\t\")\n",
        "  print()"
      ],
      "execution_count": null,
      "outputs": []
    },
    {
      "cell_type": "markdown",
      "metadata": {
        "id": "BM7g2hWW-NBA"
      },
      "source": [
        "Задание 8"
      ]
    },
    {
      "cell_type": "code",
      "metadata": {
        "id": "wtwem8sQ-nM0"
      },
      "source": [
        "a_b = list(range(6,9))\n",
        "b_c = list(range(16,18))\n",
        "a_c = a_b + b_c\n",
        "print(a_c)\n",
        "n = int(input())\n",
        "m = 0\n",
        "if n in a_c:\n",
        "  print(\"True\")\n",
        "else:\n",
        "  print(\"False\")"
      ],
      "execution_count": null,
      "outputs": []
    },
    {
      "cell_type": "markdown",
      "metadata": {
        "id": "2JDwVMIO-M-a"
      },
      "source": [
        "Задание 9"
      ]
    },
    {
      "cell_type": "code",
      "metadata": {
        "id": "RXo-7YCO-nnH"
      },
      "source": [
        "i = int(input())\n",
        "if (i-1)%3==0:\n",
        "  print(\"True\")\n",
        "else:\n",
        "  print(\"false\")"
      ],
      "execution_count": null,
      "outputs": []
    },
    {
      "cell_type": "markdown",
      "metadata": {
        "id": "Ub5Jet6T-M8K"
      },
      "source": [
        "Задание 10"
      ]
    },
    {
      "cell_type": "code",
      "metadata": {
        "id": "jbIwqKo_-n45"
      },
      "source": [
        "import random\n",
        "a = random.randrange(13)\n",
        "b = random.randint(7,10)\n",
        "c = random.randint(a,18)\n",
        "a_b = list(range(a,a+b))\n",
        "siesta = list(range(c,c+3))\n",
        "print(a_b,siesta)\n",
        "n = int(input())\n",
        "if n in a_b:\n",
        "  if n in siesta:\n",
        "    print(\"False\")\n",
        "  else:\n",
        "    print(\"True\")\n",
        "else:\n",
        "  print(\"False\")\n"
      ],
      "execution_count": null,
      "outputs": []
    },
    {
      "cell_type": "markdown",
      "metadata": {
        "id": "jXK1v81X-M2L"
      },
      "source": [
        "Задание 11"
      ]
    },
    {
      "cell_type": "code",
      "metadata": {
        "id": "vNV_-83x-osj"
      },
      "source": [
        "i = int(input())\n",
        "if ((i-1)%3==0) & ((i-1)%4==0):\n",
        "  print(\"True\")\n",
        "else:\n",
        "  print(\"false\")"
      ],
      "execution_count": null,
      "outputs": []
    },
    {
      "cell_type": "markdown",
      "metadata": {
        "id": "uRa8fT5P-Moa"
      },
      "source": [
        "Задание 12"
      ]
    },
    {
      "cell_type": "code",
      "metadata": {
        "id": "3Yaifgp7-pcl"
      },
      "source": [
        "c = int(input())\n",
        "v = 1\n",
        "while v > 0:\n",
        "  for i in range(n):\n",
        "    if v > 0:\n",
        "      v = v - 1\n",
        "    else:\n",
        "      break\n",
        "    print(c)\n",
        "  c = c + 1"
      ],
      "execution_count": null,
      "outputs": []
    },
    {
      "cell_type": "markdown",
      "metadata": {
        "id": "DDklKgoI-XC3"
      },
      "source": [
        "Задание 13"
      ]
    },
    {
      "cell_type": "code",
      "metadata": {
        "id": "9WFM6ea6-pyS"
      },
      "source": [
        "import random\n",
        "b = []\n",
        "for i in range(109):\n",
        "  a = random.randrange(110)\n",
        "  b.append(a)\n",
        "max(b)"
      ],
      "execution_count": null,
      "outputs": []
    },
    {
      "cell_type": "markdown",
      "metadata": {
        "id": "ZKTLdYCb-XAf"
      },
      "source": [
        "Задание 14"
      ]
    },
    {
      "cell_type": "code",
      "metadata": {
        "id": "tlKDYMP0-qH6"
      },
      "source": [
        "a = int(input())\n",
        "if (5<=a%100<=99) or (a%10 == 0):\n",
        "  print(n, \" программистов\")\n",
        "elif (a%10 == 1):\n",
        "  print(a,\" программист\")\n",
        "else:\n",
        "    print(a, \" программистa\")"
      ],
      "execution_count": null,
      "outputs": []
    },
    {
      "cell_type": "markdown",
      "metadata": {
        "id": "rUSAPD6m-W9v"
      },
      "source": [
        "Задание 15"
      ]
    },
    {
      "cell_type": "code",
      "metadata": {
        "id": "hlDh25wN-qjL"
      },
      "source": [
        "q = int(input())\n",
        "n = 1\n",
        "while q > 0:\n",
        "  for i in range(n):\n",
        "    print(i+1,end='')\n",
        "  print()\n",
        "  n = n + 1\n",
        "  q = q - 1"
      ],
      "execution_count": null,
      "outputs": []
    },
    {
      "cell_type": "markdown",
      "metadata": {
        "id": "XIZtYRWw-W7r"
      },
      "source": [
        "Задание 16"
      ]
    },
    {
      "cell_type": "code",
      "metadata": {
        "id": "jwYjujDQ-rKf"
      },
      "source": [
        "string = 'Сначала выведите третий символ этой строки'\n",
        "print(string[2])\n",
        "print(string[-2])\n",
        "print(string[:5])\n",
        "print(string[:-2])\n",
        "print(string[::2])\n",
        "print(string[1::2])\n",
        "print(string[::-1])\n",
        "print(string[::-2])\n",
        "print(len(string))"
      ],
      "execution_count": null,
      "outputs": []
    },
    {
      "cell_type": "markdown",
      "metadata": {
        "id": "_dsqu87u-W5m"
      },
      "source": [
        "Задание 17"
      ]
    },
    {
      "cell_type": "code",
      "metadata": {
        "id": "QGdS2vo0-rgX"
      },
      "source": [
        "strr = 'dsewsufhdbaldsfsdffisdxvbctyvvuc'\n",
        "if strr.count('f') > 1:\n",
        "  print(strr.find('f')+1)\n",
        "  print(strr.rfind('f')+1)\n",
        "elif strr.count('f') == 1:\n",
        "  print(strr.find('f')+1)\n",
        "else:\n",
        "  print(null)"
      ],
      "execution_count": null,
      "outputs": []
    },
    {
      "cell_type": "markdown",
      "metadata": {
        "id": "GfQbb3XE-W2y"
      },
      "source": [
        "Задание 18"
      ]
    },
    {
      "cell_type": "code",
      "metadata": {
        "id": "GtmHfsJD-r-y"
      },
      "source": [
        "strr = 'ahiufhdbaljbVasyaufifdsafafvuc'\n",
        "if strr.count('Vasya') >= 1:\n",
        "  print(\"в наличии\")"
      ],
      "execution_count": null,
      "outputs": []
    },
    {
      "cell_type": "markdown",
      "metadata": {
        "id": "fDSP2vSQ-W0S"
      },
      "source": [
        "Задание 19"
      ]
    },
    {
      "cell_type": "code",
      "metadata": {
        "id": "3Ajpo6EH-sSX"
      },
      "source": [
        "strr = 'ahidasvfadsvfdvasfdvaljbVasyavasfdvasuc'\n",
        "if strr.count('Vasya') >= 1:\n",
        "  print(\"True\")\n",
        "else:\n",
        "  print(\"False\")"
      ],
      "execution_count": null,
      "outputs": []
    },
    {
      "cell_type": "markdown",
      "metadata": {
        "id": "aYgWJpaI-Wxu"
      },
      "source": [
        "Задание 20"
      ]
    },
    {
      "cell_type": "code",
      "metadata": {
        "id": "KS62xZiQ-smt",
        "colab": {
          "base_uri": "https://localhost:8080/"
        },
        "outputId": "8c03f0bf-df88-4645-b40d-fbed0de682ed"
      },
      "source": [
        "strr = 'Дана строка, состоящая из слов, разделенных пробелами.'\n",
        "print(strr.count(' ')+1,\" слов\")"
      ],
      "execution_count": 1,
      "outputs": [
        {
          "output_type": "stream",
          "name": "stdout",
          "text": [
            "7  слов\n"
          ]
        }
      ]
    },
    {
      "cell_type": "markdown",
      "metadata": {
        "id": "2UT9mzmq-Wvc"
      },
      "source": [
        "Задание 21"
      ]
    },
    {
      "cell_type": "code",
      "metadata": {
        "id": "XRhJ-a__-s7L"
      },
      "source": [
        "str1 = input()\n",
        "str2 = input()\n",
        "\n",
        "if str1.count(str2) >= 1:\n",
        "  print(\"True\")\n",
        "else:\n",
        "  print(\"False\")"
      ],
      "execution_count": null,
      "outputs": []
    },
    {
      "cell_type": "markdown",
      "metadata": {
        "id": "s1akgT-K-Wqf"
      },
      "source": [
        "Задание 22"
      ]
    },
    {
      "cell_type": "code",
      "metadata": {
        "id": "Gwtix-j1_uJp"
      },
      "source": [
        "str1 = input()\n",
        "print(\"+7\",end='')\n",
        "print(str1[len(str1)-10::])\n"
      ],
      "execution_count": null,
      "outputs": []
    }
  ]
}